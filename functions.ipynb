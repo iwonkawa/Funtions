{
 "cells": [
  {
   "cell_type": "markdown",
   "id": "370f0c20",
   "metadata": {},
   "source": [
    "\n",
    "# Tworzenie funkcji w Pythonie\n",
    "\n",
    "Aby stworzyć funkcję w Pythonie, używamy słowa kluczowego `def`, po którym następuje nazwa funkcji i para nawiasów okrągłych `()`. W nawiasach możemy umieścić argumenty, jeśli nasza funkcja ich potrzebuje. Następnie używamy dwukropka `:` i wcięcia (najczęściej 4 spacje lub jeden tabulator) do zdefiniowania ciała funkcji. Oto prosty przykład funkcji, która dodaje dwie liczby:\n"
   ]
  },
  {
   "cell_type": "code",
   "execution_count": null,
   "id": "c366e9cb",
   "metadata": {},
   "outputs": [],
   "source": [
    "\n",
    "# Definicja funkcji dodającej dwie liczby\n",
    "def dodaj(a, b):\n",
    "    return a + b\n"
   ]
  },
  {
   "cell_type": "markdown",
   "id": "623c240e",
   "metadata": {},
   "source": [
    "\n",
    "# Wywoływanie funkcji w Pythonie\n",
    "\n",
    "Aby wywołać funkcję, używamy jej nazwy, po której następują nawiasy okrągłe `()`. W nawiasach podajemy wartości argumentów, które chcemy przekazać do funkcji. Oto przykład wywołania funkcji `dodaj`:\n"
   ]
  },
  {
   "cell_type": "code",
   "execution_count": null,
   "id": "324e98ba",
   "metadata": {},
   "outputs": [],
   "source": [
    "\n",
    "# Wywołanie funkcji dodaj z argumentami 3 i 5\n",
    "wynik = dodaj(3, 5)\n",
    "print(\"Wynik dodawania 3 i 5 to:\", wynik)\n"
   ]
  }
 ],
 "metadata": {},
 "nbformat": 4,
 "nbformat_minor": 5
}
